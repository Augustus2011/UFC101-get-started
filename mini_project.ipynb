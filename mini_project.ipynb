{
  "nbformat": 4,
  "nbformat_minor": 0,
  "metadata": {
    "colab": {
      "provenance": [],
      "machine_shape": "hm",
      "gpuType": "V100"
    },
    "kernelspec": {
      "name": "python3",
      "display_name": "Python 3"
    },
    "language_info": {
      "name": "python"
    },
    "accelerator": "GPU",
    "gpuClass": "standard"
  },
  "cells": [
    {
      "cell_type": "markdown",
      "source": [
        "#pip install"
      ],
      "metadata": {
        "id": "w6KvysMwS5eV"
      }
    },
    {
      "cell_type": "code",
      "source": [
        "!pip install pyunpack\n",
        "!pip install patool\n",
        "! pip install -Uq pyopenssl"
      ],
      "metadata": {
        "colab": {
          "base_uri": "https://localhost:8080/"
        },
        "id": "W39nsS0o6KbP",
        "outputId": "a9bcb99e-1bd2-455b-b9f1-b75a5e01afbf"
      },
      "execution_count": 1,
      "outputs": [
        {
          "output_type": "stream",
          "name": "stdout",
          "text": [
            "Looking in indexes: https://pypi.org/simple, https://us-python.pkg.dev/colab-wheels/public/simple/\n",
            "Collecting pyunpack\n",
            "  Downloading pyunpack-0.3-py2.py3-none-any.whl (4.1 kB)\n",
            "Collecting entrypoint2\n",
            "  Downloading entrypoint2-1.1-py2.py3-none-any.whl (9.9 kB)\n",
            "Collecting easyprocess\n",
            "  Downloading EasyProcess-1.1-py3-none-any.whl (8.7 kB)\n",
            "Installing collected packages: entrypoint2, easyprocess, pyunpack\n",
            "Successfully installed easyprocess-1.1 entrypoint2-1.1 pyunpack-0.3\n",
            "Looking in indexes: https://pypi.org/simple, https://us-python.pkg.dev/colab-wheels/public/simple/\n",
            "Collecting patool\n",
            "  Downloading patool-1.12-py2.py3-none-any.whl (77 kB)\n",
            "\u001b[2K     \u001b[90m━━━━━━━━━━━━━━━━━━━━━━━━━━━━━━━━━━━━━━━━\u001b[0m \u001b[32m77.5/77.5 kB\u001b[0m \u001b[31m6.3 MB/s\u001b[0m eta \u001b[36m0:00:00\u001b[0m\n",
            "\u001b[?25hInstalling collected packages: patool\n",
            "Successfully installed patool-1.12\n",
            "\u001b[2K     \u001b[90m━━━━━━━━━━━━━━━━━━━━━━━━━━━━━━━━━━━━━━━━\u001b[0m \u001b[32m57.9/57.9 kB\u001b[0m \u001b[31m5.0 MB/s\u001b[0m eta \u001b[36m0:00:00\u001b[0m\n",
            "\u001b[?25h"
          ]
        }
      ]
    },
    {
      "cell_type": "code",
      "source": [
        "!pip install av"
      ],
      "metadata": {
        "colab": {
          "base_uri": "https://localhost:8080/"
        },
        "id": "Inyl3gDkVjEz",
        "outputId": "537536a8-2e4e-4436-8d81-6877534ba7a8"
      },
      "execution_count": 2,
      "outputs": [
        {
          "output_type": "stream",
          "name": "stdout",
          "text": [
            "Looking in indexes: https://pypi.org/simple, https://us-python.pkg.dev/colab-wheels/public/simple/\n",
            "Collecting av\n",
            "  Downloading av-10.0.0-cp310-cp310-manylinux_2_17_x86_64.manylinux2014_x86_64.whl (31.0 MB)\n",
            "\u001b[2K     \u001b[90m━━━━━━━━━━━━━━━━━━━━━━━━━━━━━━━━━━━━━━━━\u001b[0m \u001b[32m31.0/31.0 MB\u001b[0m \u001b[31m33.5 MB/s\u001b[0m eta \u001b[36m0:00:00\u001b[0m\n",
            "\u001b[?25hInstalling collected packages: av\n",
            "Successfully installed av-10.0.0\n"
          ]
        }
      ]
    },
    {
      "cell_type": "markdown",
      "source": [
        "#download dataset"
      ],
      "metadata": {
        "id": "GTNd0pHITBNe"
      }
    },
    {
      "cell_type": "code",
      "source": [
        "!wget -P ~/.fastai/archive/ --no-check-certificate  https://www.crcv.ucf.edu/data/UCF101/UCF101.rar"
      ],
      "metadata": {
        "colab": {
          "base_uri": "https://localhost:8080/"
        },
        "id": "FslLVTm9TAUq",
        "outputId": "365a4d29-2a4c-47ca-81bf-b8226a68206c"
      },
      "execution_count": null,
      "outputs": [
        {
          "output_type": "stream",
          "name": "stdout",
          "text": [
            "--2023-05-07 09:02:38--  https://www.crcv.ucf.edu/data/UCF101/UCF101.rar\n",
            "Resolving www.crcv.ucf.edu (www.crcv.ucf.edu)... 132.170.214.127\n",
            "Connecting to www.crcv.ucf.edu (www.crcv.ucf.edu)|132.170.214.127|:443... connected.\n",
            "WARNING: cannot verify www.crcv.ucf.edu's certificate, issued by ‘CN=InCommon RSA Server CA,OU=InCommon,O=Internet2,L=Ann Arbor,ST=MI,C=US’:\n",
            "  Unable to locally verify the issuer's authority.\n",
            "HTTP request sent, awaiting response... 200 OK\n",
            "Length: 6932971618 (6.5G) [application/rar]\n",
            "Saving to: ‘/root/.fastai/archive/UCF101.rar’\n",
            "\n",
            "UCF101.rar           87%[================>   ]   5.67G  25.9MB/s    eta 32s    "
          ]
        }
      ]
    },
    {
      "cell_type": "markdown",
      "source": [
        "#import things"
      ],
      "metadata": {
        "id": "QRGTKoC6S8FL"
      }
    },
    {
      "cell_type": "code",
      "execution_count": null,
      "metadata": {
        "id": "vgNxHaZ35Lhx"
      },
      "outputs": [],
      "source": [
        "from pyunpack import Archive\n",
        "import os\n",
        "from tqdm import tqdm_notebook as tqdm\n",
        "import glob\n",
        "import fastai\n",
        "from fastai.vision.all import *\n",
        "from fastai.vision.core import show_images\n",
        "import torch\n",
        "import numpy as np\n",
        "from PIL import Image\n",
        "import av"
      ]
    },
    {
      "cell_type": "code",
      "source": [
        "#unrat unzip like\n",
        "Archive('/root/.fastai/archive/UCF101.rar').extractall('/content/')"
      ],
      "metadata": {
        "id": "VxD_08XR67zK"
      },
      "execution_count": null,
      "outputs": []
    },
    {
      "cell_type": "code",
      "source": [
        "count=0\n",
        "video_paths=[]\n",
        "for a_class in tqdm(os.listdir(\"/content/UCF-101\")):\n",
        "  count+=len(os.listdir(f\"/content/UCF-101/{a_class}\"))\n",
        "  for path in os.listdir(f\"/content/UCF-101/{a_class}\"):\n",
        "    video_paths.append(f\"/content/UCF-101/{a_class}/{path}\")\n",
        "print(count/101)"
      ],
      "metadata": {
        "id": "1G9DJFHp6fgK"
      },
      "execution_count": null,
      "outputs": []
    },
    {
      "cell_type": "code",
      "source": [
        "\"/content/UCF-101/ApplyEyeMakeup/v_ApplyEyeMakeup_g01_c01.avi\""
      ],
      "metadata": {
        "id": "60ltfdL99ECv"
      },
      "execution_count": null,
      "outputs": []
    },
    {
      "cell_type": "code",
      "source": [
        "def extract_frames(video_path):\n",
        "    video = av.open(str(video_path))\n",
        "    for frame in video.decode(0):\n",
        "        yield frame.to_image()"
      ],
      "metadata": {
        "id": "FYVIT2Tg--nA"
      },
      "execution_count": null,
      "outputs": []
    },
    {
      "cell_type": "markdown",
      "source": [
        "##example"
      ],
      "metadata": {
        "id": "p8kFV833DZhF"
      }
    },
    {
      "cell_type": "code",
      "source": [
        "frames = list(extract_frames(\"/content/UCF-101/Biking/v_Biking_g01_c01.avi\"))\n",
        "print(np.array(frames[0]).shape)\n",
        "frames[0]"
      ],
      "metadata": {
        "id": "fmPoFR4r_aF9"
      },
      "execution_count": null,
      "outputs": []
    },
    {
      "cell_type": "code",
      "source": [
        "len(frames),frames[0]"
      ],
      "metadata": {
        "id": "vp6ANPlY_vDE"
      },
      "execution_count": null,
      "outputs": []
    },
    {
      "cell_type": "code",
      "source": [
        "#from fastai.vision.core import show_images\n",
        "show_images(frames,nrows=10, ncols=10)"
      ],
      "metadata": {
        "id": "hmUqQ-VTAtsU"
      },
      "execution_count": null,
      "outputs": []
    },
    {
      "cell_type": "markdown",
      "source": [
        "##ds,dl"
      ],
      "metadata": {
        "id": "mOSWiPy0I3RK"
      }
    },
    {
      "cell_type": "code",
      "source": [
        "instance_paths=glob.glob(\"/content/UCF-101/*/*\",recursive=False)"
      ],
      "metadata": {
        "id": "FIswXWIRLEJK"
      },
      "execution_count": null,
      "outputs": []
    },
    {
      "cell_type": "code",
      "source": [
        "instance_paths"
      ],
      "metadata": {
        "id": "JUyIoXznLPD7"
      },
      "execution_count": null,
      "outputs": []
    },
    {
      "cell_type": "code",
      "source": [
        "class ImageTuple(fastuple):\n",
        "    \"A tuple of PILImages\"\n",
        "    def show(self, ctx=None, **kwargs): \n",
        "        n = len(self)\n",
        "        img0, img1, img2= self[0], self[n//2], self[n-1]\n",
        "        if not isinstance(img1, Tensor):\n",
        "            t0, t1,t2 = tensor(img0), tensor(img1),tensor(img2)\n",
        "            t0, t1,t2 = t0.permute(2,0,1), t1.permute(2,0,1),t2.permute(2,0,1)\n",
        "        else: t0, t1,t2 = img0, img1,img2\n",
        "        return show_image(torch.cat([t0,t1,t2], dim=2), ctx=ctx, **kwargs)"
      ],
      "metadata": {
        "id": "6sH9tgnGI4dK"
      },
      "execution_count": null,
      "outputs": []
    },
    {
      "cell_type": "code",
      "source": [
        "img_sample=ImageTuple(PILImage.create(fn) for fn in frames).show()\n",
        "img_sample.figure"
      ],
      "metadata": {
        "id": "hYgTQVLvI7m1"
      },
      "execution_count": null,
      "outputs": []
    },
    {
      "cell_type": "code",
      "source": [
        "class ImageTupleTfm(Transform):\n",
        "    def __init__(self, seq_len=20):\n",
        "        store_attr()\n",
        "    def encodes(self, path):\n",
        "        frames = list(extract_frames(path))\n",
        "        n_frames =len(frames)\n",
        "        s = slice(0, min(self.seq_len, n_frames))\n",
        "        return ImageTuple(tuple(PILImage.create(f) for f in frames[s]))"
      ],
      "metadata": {
        "id": "jX8Oo7d0RlkO"
      },
      "execution_count": null,
      "outputs": []
    },
    {
      "cell_type": "code",
      "source": [
        "tfm = ImageTupleTfm(seq_len=5)\n",
        "biking_instance = instance_paths[0]\n",
        "biking_instance"
      ],
      "metadata": {
        "id": "q6kdiWjlRn9R"
      },
      "execution_count": null,
      "outputs": []
    },
    {
      "cell_type": "code",
      "source": [
        "tfm(biking_instance).show()"
      ],
      "metadata": {
        "id": "WPs78BLzRxbr"
      },
      "execution_count": null,
      "outputs": []
    },
    {
      "cell_type": "code",
      "source": [
        "splits = RandomSplitter()(instance_paths)\n",
        "ds = Datasets(instance_paths, tfms=[[ImageTupleTfm(5)], [parent_label, Categorize]], splits=splits)"
      ],
      "metadata": {
        "id": "YBfSWBFTJuVo"
      },
      "execution_count": null,
      "outputs": []
    },
    {
      "cell_type": "code",
      "source": [
        "len(ds)"
      ],
      "metadata": {
        "id": "JaLlLC5fSJMv"
      },
      "execution_count": null,
      "outputs": []
    },
    {
      "cell_type": "code",
      "source": [
        "ds.tfms"
      ],
      "metadata": {
        "id": "1t-T2-9LMmsR"
      },
      "execution_count": null,
      "outputs": []
    },
    {
      "cell_type": "code",
      "source": [
        "dls = ds.dataloaders(bs=24, after_item=[Resize(128), ToTensor], \n",
        "                      after_batch=[IntToFloatTensor, Normalize.from_stats(*imagenet_stats)])"
      ],
      "metadata": {
        "id": "xa7bRteANdOJ"
      },
      "execution_count": null,
      "outputs": []
    },
    {
      "cell_type": "code",
      "source": [
        "x,y = dls.one_batch()"
      ],
      "metadata": {
        "id": "EzruKHH8NzQ4"
      },
      "execution_count": null,
      "outputs": []
    },
    {
      "cell_type": "code",
      "source": [
        "x"
      ],
      "metadata": {
        "id": "_oa2rY5zN6rJ"
      },
      "execution_count": null,
      "outputs": []
    },
    {
      "cell_type": "code",
      "source": [
        "y"
      ],
      "metadata": {
        "id": "nAcFi0-oN633"
      },
      "execution_count": null,
      "outputs": []
    },
    {
      "cell_type": "code",
      "source": [
        "dls.loss_func"
      ],
      "metadata": {
        "id": "wHGHBOvCODUi"
      },
      "execution_count": null,
      "outputs": []
    },
    {
      "cell_type": "code",
      "source": [
        "dls.show_batch()"
      ],
      "metadata": {
        "id": "Ld2aAR_fX65t"
      },
      "execution_count": null,
      "outputs": []
    },
    {
      "cell_type": "markdown",
      "source": [
        "#model"
      ],
      "metadata": {
        "id": "z4aU99M4EzMG"
      }
    },
    {
      "cell_type": "markdown",
      "source": [
        "##simple model"
      ],
      "metadata": {
        "id": "bnjitPfEaA6Y"
      }
    },
    {
      "cell_type": "code",
      "source": [
        "class SimpleModel(Module):\n",
        "    def __init__(self, arch=resnet34(), n_out=101):\n",
        "        self.encoder = TimeDistributed(create_body(arch, pretrained=True))\n",
        "        self.head = TimeDistributed(create_head(512, 101))\n",
        "    def forward(self, x):\n",
        "        x = torch.stack(x, dim=1)\n",
        "        return self.head(self.encoder(x)).mean(dim=1)\n",
        "def simple_splitter(model): return [params(model.encoder), params(model.head)]"
      ],
      "metadata": {
        "id": "qLinCUlAE0c2"
      },
      "execution_count": null,
      "outputs": []
    },
    {
      "cell_type": "code",
      "source": [
        "simple_model = SimpleModel().cuda()"
      ],
      "metadata": {
        "id": "-SA1b9nLF8yu"
      },
      "execution_count": null,
      "outputs": []
    },
    {
      "cell_type": "code",
      "source": [
        "learn = Learner(dls, simple_model, metrics=[accuracy], splitter=simple_splitter).to_fp16()"
      ],
      "metadata": {
        "id": "24GscHcMGRTC"
      },
      "execution_count": null,
      "outputs": []
    },
    {
      "cell_type": "code",
      "source": [
        "learn.fine_tune(3,1e-3, freeze_epochs=2)"
      ],
      "metadata": {
        "id": "iABNTs3GOSvl"
      },
      "execution_count": null,
      "outputs": []
    },
    {
      "cell_type": "markdown",
      "source": [
        "##resnet RNN"
      ],
      "metadata": {
        "id": "BsGAZtkfaDBW"
      }
    },
    {
      "cell_type": "code",
      "source": [
        "arch2 = resnet34()\n",
        "encoder = nn.Sequential(create_body(arch2, pretrained=True), nn.AdaptiveAvgPool2d(1), Flatten()).cuda()"
      ],
      "metadata": {
        "id": "D47Ka9hEaEqK"
      },
      "execution_count": null,
      "outputs": []
    },
    {
      "cell_type": "code",
      "source": [
        "encoder(x[0]).shape"
      ],
      "metadata": {
        "id": "zGiO3kgna_9r"
      },
      "execution_count": null,
      "outputs": []
    },
    {
      "cell_type": "code",
      "source": [
        "tencoder = TimeDistributed(encoder)\n",
        "tencoder(torch.stack(x, dim=1)).shape"
      ],
      "metadata": {
        "id": "WMInaW9Qa7-U"
      },
      "execution_count": null,
      "outputs": []
    },
    {
      "cell_type": "code",
      "source": [
        "class RNNModel(Module):\n",
        "    def __init__(self, arch=resnet34, n_out=101, num_rnn_layers=1):\n",
        "        self.encoder = TimeDistributed(nn.Sequential(create_body(arch, pretrained=True), nn.AdaptiveAvgPool2d(1), Flatten()))\n",
        "        self.rnn = nn.LSTM(512, 512, num_layers=num_rnn_layers, batch_first=True)\n",
        "        self.head = LinBnDrop(num_rnn_layers*512, n_out)\n",
        "    def forward(self, x):\n",
        "        x = torch.stack(x, dim=1)\n",
        "        x = self.encoder(x)\n",
        "        bs = x.shape[0]\n",
        "        _, (h, _) = self.rnn(x)\n",
        "        return self.head(h.view(bs,-1))"
      ],
      "metadata": {
        "id": "qjbKdZ5wbBsE"
      },
      "execution_count": null,
      "outputs": []
    },
    {
      "cell_type": "code",
      "source": [
        "def rnnmodel_splitter(model):\n",
        "    return [params(model.encoder), params(model.rnn)+params(model.head)]"
      ],
      "metadata": {
        "id": "C0KfWQzBbKSN"
      },
      "execution_count": null,
      "outputs": []
    },
    {
      "cell_type": "code",
      "source": [
        "RES_rnn = RNNModel().cuda()"
      ],
      "metadata": {
        "id": "ZNdoSQLubKtA"
      },
      "execution_count": null,
      "outputs": []
    },
    {
      "cell_type": "code",
      "source": [
        "learn2 = Learner(dls,RES_rnn, metrics=[accuracy], splitter=rnnmodel_splitter).to_fp16()"
      ],
      "metadata": {
        "id": "oR-z_7gNbNL_"
      },
      "execution_count": null,
      "outputs": []
    },
    {
      "cell_type": "code",
      "source": [
        "learn2.fine_tune(5, 5e-3)"
      ],
      "metadata": {
        "id": "usCceSNibn32"
      },
      "execution_count": null,
      "outputs": []
    },
    {
      "cell_type": "code",
      "source": [
        "learn2.show_results()"
      ],
      "metadata": {
        "id": "ARmVF3f6cIM_"
      },
      "execution_count": null,
      "outputs": []
    },
    {
      "cell_type": "markdown",
      "source": [
        "#time transformers"
      ],
      "metadata": {
        "id": "-l3N83Ndb0PT"
      }
    },
    {
      "cell_type": "code",
      "source": [
        "!pip install -Uq timesformer-pytorch"
      ],
      "metadata": {
        "id": "hQPuvlSEb2Hs"
      },
      "execution_count": null,
      "outputs": []
    },
    {
      "cell_type": "code",
      "source": [
        "from timesformer_pytorch import TimeSformer\n",
        "class MyTimeSformer(TimeSformer):\n",
        "    def forward(self, x):\n",
        "        x = torch.stack(x, dim=1)\n",
        "        return super().forward(x)"
      ],
      "metadata": {
        "id": "NW-0iVLrb2mb"
      },
      "execution_count": null,
      "outputs": []
    },
    {
      "cell_type": "code",
      "source": [
        "timesformer = MyTimeSformer(\n",
        "    dim = 128,\n",
        "    image_size = 128,\n",
        "    patch_size = 16,\n",
        "    num_frames = 5,\n",
        "    num_classes = 101,\n",
        "    depth = 12,\n",
        "    heads = 8,\n",
        "    dim_head =  64,\n",
        "    attn_dropout = 0.1,\n",
        "    ff_dropout = 0.1\n",
        ").cuda()"
      ],
      "metadata": {
        "id": "M0YkGK4ab6vm"
      },
      "execution_count": null,
      "outputs": []
    },
    {
      "cell_type": "code",
      "source": [
        "learn_tf= Learner(dls, timesformer, metrics=[accuracy]).to_fp16()"
      ],
      "metadata": {
        "id": "CLqVZGdGb-3y"
      },
      "execution_count": null,
      "outputs": []
    },
    {
      "cell_type": "code",
      "source": [
        "learn_tf.fit_one_cycle(12, 5e-4)"
      ],
      "metadata": {
        "id": "cCdLywX6cEb-"
      },
      "execution_count": null,
      "outputs": []
    },
    {
      "cell_type": "code",
      "source": [
        "learn_tf.show_results()"
      ],
      "metadata": {
        "id": "mHgd9qWScGFT"
      },
      "execution_count": null,
      "outputs": []
    }
  ]
}